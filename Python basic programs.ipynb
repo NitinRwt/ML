{
 "cells": [
  {
   "cell_type": "code",
   "execution_count": 1,
   "id": "7be7f68a",
   "metadata": {},
   "outputs": [
    {
     "name": "stdout",
     "output_type": "stream",
     "text": [
      "20\n"
     ]
    }
   ],
   "source": [
    "a=20\n",
    "if (a==20):\n",
    "    print(a)\n",
    "else:\n",
    "    print(flase)"
   ]
  },
  {
   "cell_type": "code",
   "execution_count": 2,
   "id": "60382433",
   "metadata": {
    "scrolled": true
   },
   "outputs": [
    {
     "name": "stdout",
     "output_type": "stream",
     "text": [
      "enter the daymonday\n",
      "monday\n"
     ]
    }
   ],
   "source": [
    "a=input(\"enter the day\")\n",
    "if a == \"monday\":\n",
    "    print(a)\n",
    "    "
   ]
  },
  {
   "cell_type": "code",
   "execution_count": 1,
   "id": "0cd74047",
   "metadata": {},
   "outputs": [
    {
     "name": "stdout",
     "output_type": "stream",
     "text": [
      "0 -3\n",
      "1 -2\n",
      "2 -1\n",
      "3 0\n",
      "4 1\n",
      "5 2\n"
     ]
    }
   ],
   "source": [
    "for idx , i in enumerate(range(-3,3)):\n",
    "    print(idx,i)"
   ]
  },
  {
   "cell_type": "code",
   "execution_count": 7,
   "id": "d1547af2",
   "metadata": {},
   "outputs": [
    {
     "name": "stdout",
     "output_type": "stream",
     "text": [
      "nhi hua\n"
     ]
    }
   ],
   "source": [
    "a = 10\n",
    "b=0\n",
    "try:\n",
    "    a/b\n",
    "    print(\"hogya divide\")\n",
    "except:\n",
    "    print(\"nhi hua\")"
   ]
  },
  {
   "cell_type": "code",
   "execution_count": 10,
   "id": "5cf72763",
   "metadata": {},
   "outputs": [
    {
     "name": "stdout",
     "output_type": "stream",
     "text": [
      "/n\n",
      "*/n\n",
      "**/n\n",
      "***/n\n",
      "****/n\n",
      "*****/n\n",
      "******/n\n",
      "*******/n\n",
      "********/n\n",
      "*********/n\n"
     ]
    }
   ],
   "source": [
    "for i in range(10):\n",
    "    for j in range(i):\n",
    "        print(\"*\",end='')\n",
    "    print(\"/n\")"
   ]
  },
  {
   "cell_type": "code",
   "execution_count": 12,
   "id": "9638b109",
   "metadata": {},
   "outputs": [
    {
     "name": "stdout",
     "output_type": "stream",
     "text": [
      "a o\n"
     ]
    }
   ],
   "source": [
    "st=\"i am God\"\n",
    "x=slice(2,7,2)\n",
    "print(st[x])"
   ]
  },
  {
   "cell_type": "code",
   "execution_count": 2,
   "id": "43a1d087",
   "metadata": {},
   "outputs": [
    {
     "name": "stdout",
     "output_type": "stream",
     "text": [
      "5\n"
     ]
    }
   ],
   "source": [
    "class hello:\n",
    "    x=5\n",
    "p=hello\n",
    "print(p.x)"
   ]
  },
  {
   "cell_type": "code",
   "execution_count": 31,
   "id": "fbae50eb",
   "metadata": {},
   "outputs": [
    {
     "name": "stdout",
     "output_type": "stream",
     "text": [
      "Hello my name is Nitin\n"
     ]
    }
   ],
   "source": [
    "class person:\n",
    "    def __init__(self, name, age):\n",
    "        self.name=name\n",
    "        self.age=age\n",
    "    def __str__(self):\n",
    "        return f\"{self.name}({self.age})\"\n",
    "    def myfunc(self):\n",
    "        print(\"Hello my name is \" + self.name)\n",
    "p=person(\"Nitin\",20)\n",
    "p.myfunc()"
   ]
  },
  {
   "cell_type": "code",
   "execution_count": 35,
   "id": "84734f1f",
   "metadata": {},
   "outputs": [
    {
     "name": "stdout",
     "output_type": "stream",
     "text": [
      "that's great Nitin\n"
     ]
    }
   ],
   "source": [
    "class person:\n",
    "    def __init__(wow,name,age):\n",
    "        wow.name=name\n",
    "        wow.age=age\n",
    "    def myfunc(abc):\n",
    "        print(\"that's great \" + abc.name)\n",
    "p=person(\"Nitin\",34)\n",
    "p.myfunc()"
   ]
  },
  {
   "cell_type": "code",
   "execution_count": 38,
   "id": "b18e6a52",
   "metadata": {},
   "outputs": [
    {
     "name": "stdout",
     "output_type": "stream",
     "text": [
      "Nitin Rawat\n"
     ]
    }
   ],
   "source": [
    "class person:\n",
    "    def __init__(self,fname,lname):\n",
    "        self.firstname = fname\n",
    "        self.lastname = lname\n",
    "    def name(self):\n",
    "        print(self.firstname, self.lastname)\n",
    "class student(person):\n",
    "    def __init__(self,fname,lname):\n",
    "        person.__init__ (self,fname,lname)   \n",
    "p=student(\"Nitin\",\"Rawat\")\n",
    "p.name()"
   ]
  },
  {
   "cell_type": "markdown",
   "id": "3e17902c",
   "metadata": {},
   "source": [
    "# Write a Python program to create a class representing a Circle. Include methods to calculate its area and perimeter."
   ]
  },
  {
   "cell_type": "code",
   "execution_count": 3,
   "id": "81507b9f",
   "metadata": {},
   "outputs": [
    {
     "name": "stdout",
     "output_type": "stream",
     "text": [
      "Enter the radius of the circle: 67\n",
      "Area of the circle: 14102.609421964582\n",
      "Perimeter of the circle: 420.97341558103227\n"
     ]
    }
   ],
   "source": [
    "class Circle:\n",
    "    def __init__(self, radius):\n",
    "        self.radius = radius\n",
    "    \n",
    "    def calculate_area(self):\n",
    "        return math.pi * self.radius ** 2\n",
    "    \n",
    "    def calculate_perimeter(self):\n",
    "        return 2 * math.pi * self.radius\n",
    "    \n",
    "radius = float(input(\"Enter the radius of the circle: \"))\n",
    "circle = Circle(radius)\n",
    "print(\"Area of the circle:\", circle.calculate_area())\n",
    "print(\"Perimeter of the circle:\", circle.calculate_perimeter())\n"
   ]
  },
  {
   "cell_type": "markdown",
   "id": "0c5dee0c",
   "metadata": {},
   "source": [
    "# Write a Python program to create a person class. Include attributes like name, country and date of birth. Implement a method to determine the person's age."
   ]
  },
  {
   "cell_type": "code",
   "execution_count": 7,
   "id": "986010d3",
   "metadata": {},
   "outputs": [
    {
     "name": "stdout",
     "output_type": "stream",
     "text": [
      "Enter the person's name: Nitin\n",
      "Enter the person's country: india\n",
      "Enter the person's date of birth (YYYY-MM-DD): 2003-07-20\n",
      "Nitin from india is 20 years old.\n"
     ]
    }
   ],
   "source": [
    "import datetime\n",
    "\n",
    "class Person:\n",
    "    def __init__(self, name, country, date_of_birth):\n",
    "        self.name = name\n",
    "        self.country = country\n",
    "        self.date_of_birth = date_of_birth\n",
    "    \n",
    "    def calculate_age(self):\n",
    "        today = datetime.date.today()\n",
    "        birthdate = datetime.datetime.strptime(self.date_of_birth, '%Y-%m-%d').date()\n",
    "        age = today.year - birthdate.year - ((today.month, today.day) < (birthdate.month, birthdate.day))\n",
    "        return age\n",
    "    \n",
    "name = input(\"Enter the person's name: \")\n",
    "country = input(\"Enter the person's country: \")\n",
    "date_of_birth = input(\"Enter the person's date of birth (YYYY-MM-DD): \")\n",
    "person = Person(name, country, date_of_birth)\n",
    "age = person.calculate_age()\n",
    "print(f\"{person.name} from {person.country} is {age} years old.\")\n"
   ]
  },
  {
   "cell_type": "markdown",
   "id": "48ae2b47",
   "metadata": {},
   "source": [
    "# Write a Python program to create a class representing a shopping cart. Include methods for adding and removing items, and calculating the total price."
   ]
  },
  {
   "cell_type": "code",
   "execution_count": 10,
   "id": "803d2657",
   "metadata": {},
   "outputs": [
    {
     "name": "stdout",
     "output_type": "stream",
     "text": [
      "Total price of items in the shopping cart: Rs 4.75\n"
     ]
    }
   ],
   "source": [
    "class ShoppingCart:\n",
    "    def __init__(self):\n",
    "        self.items = {}\n",
    "    \n",
    "    def add_item(self, item_name, price, quantity):\n",
    "        if item_name in self.items:\n",
    "            self.items[item_name]['quantity'] += quantity\n",
    "        else:\n",
    "            self.items[item_name] = {'price': price, 'quantity': quantity}\n",
    "    \n",
    "    def remove_item(self, item_name):\n",
    "        if item_name in self.items:\n",
    "            del self.items[item_name]\n",
    "        else:\n",
    "            print(f\"{item_name} is not in the shopping cart.\")\n",
    "    \n",
    "    def calculate_total_price(self):\n",
    "        total_price = sum(item_info['price'] * item_info['quantity'] for item_info in self.items.values())\n",
    "        return total_price\n",
    "\n",
    "cart = ShoppingCart()\n",
    "\n",
    "cart.add_item(\"Apple\", 0.75, 3)\n",
    "cart.add_item(\"Banana\", 0.50, 5)\n",
    "cart.add_item(\"Orange\", 1.25, 2)\n",
    "\n",
    "cart.remove_item(\"Banana\")\n",
    "\n",
    "\n",
    "total_price = cart.calculate_total_price()\n",
    "print(f\"Total price of items in the shopping cart: Rs {total_price:.2f}\")\n"
   ]
  },
  {
   "cell_type": "markdown",
   "id": "e6890930",
   "metadata": {},
   "source": [
    "# Write a Python program to create a calculator class. Include methods for basic arithmetic operations."
   ]
  },
  {
   "cell_type": "code",
   "execution_count": 12,
   "id": "4b5ba208",
   "metadata": {},
   "outputs": [
    {
     "name": "stdout",
     "output_type": "stream",
     "text": [
      "Enter the first number: 45\n",
      "Enter the second number: 54\n",
      "Enter the operation (+, -, *, /): +\n",
      "Result: 99.0\n"
     ]
    }
   ],
   "source": [
    "class Calculator:\n",
    "    def add(self, a, b):\n",
    "        return a + b\n",
    "    \n",
    "    def subtract(self, a, b):\n",
    "        return a - b\n",
    "    \n",
    "    def multiply(self, a, b):\n",
    "        return a * b\n",
    "    \n",
    "    def divide(self, a, b):\n",
    "        if b != 0:\n",
    "            return a / b\n",
    "        else:\n",
    "            return \"Cannot divide by zero.\"\n",
    "\n",
    "calculator = Calculator()\n",
    "\n",
    "num1 = float(input(\"Enter the first number: \"))\n",
    "num2 = float(input(\"Enter the second number: \"))\n",
    "operation = input(\"Enter the operation (+, -, *, /): \")\n",
    "\n",
    "if operation == '+':\n",
    "    result = calculator.add(num1, num2)\n",
    "elif operation == '-':\n",
    "    result = calculator.subtract(num1, num2)\n",
    "elif operation == '*':\n",
    "    result = calculator.multiply(num1, num2)\n",
    "elif operation == '/':\n",
    "    result = calculator.divide(num1, num2)\n",
    "else:\n",
    "    result = \"Invalid operation\"\n",
    "\n",
    "print(\"Result:\", result)\n"
   ]
  },
  {
   "cell_type": "code",
   "execution_count": null,
   "id": "648ec01d",
   "metadata": {},
   "outputs": [],
   "source": []
  }
 ],
 "metadata": {
  "kernelspec": {
   "display_name": "Python 3 (ipykernel)",
   "language": "python",
   "name": "python3"
  },
  "language_info": {
   "codemirror_mode": {
    "name": "ipython",
    "version": 3
   },
   "file_extension": ".py",
   "mimetype": "text/x-python",
   "name": "python",
   "nbconvert_exporter": "python",
   "pygments_lexer": "ipython3",
   "version": "3.9.13"
  }
 },
 "nbformat": 4,
 "nbformat_minor": 5
}
